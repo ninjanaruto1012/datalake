{
 "cells": [
  {
   "cell_type": "code",
   "execution_count": null,
   "id": "2a833195",
   "metadata": {},
   "outputs": [],
   "source": [
    "from pyspark.sql import SparkSession\n",
    "import pyspark.sql.functions as F\n",
    "from os.path import abspath\n",
    "\n",
    "# SparkSession\n",
    "URL_SPARK = \"spark://spark-master:7077\"\n",
    "warehouse_location = abspath('spark-warehouse')\n",
    "\n",
    "spark = (\n",
    "    SparkSession.builder\n",
    "    .appName(\"write-stream-minio\")\n",
    "    .config(\"executor.memory\", \"8g\")\n",
    "    .config(\"spark.sql.warehouse.dir\", warehouse_location)\n",
    "    .config(\"spark.jars\", \"jars/hadoop-aws-3.3.2.jar,jars/aws-java-sdk-bundle-1.12.172.jar,jars/hadoop-common-3.3.2.jar,jars/spark-avro_2.12-3.3.2.jar,jars/commons-pool2-2.11.1.jar\")\n",
    "    .config(\"spark.hadoop.fs.s3a.aws.credentials.provider\", \"org.apache.hadoop.fs.s3a.SimpleAWSCredentialsProvider\")\n",
    "    .master(URL_SPARK)\n",
    "    .getOrCreate()\n",
    ")\n"
   ]
  },
  {
   "cell_type": "code",
   "execution_count": null,
   "id": "472111f4",
   "metadata": {},
   "outputs": [],
   "source": [
    "from pyspark.sql.functions import *\n",
    "from pyspark.sql.types import *\n",
    "from pyspark.sql.functions import unix_timestamp, from_unixtime"
   ]
  },
  {
   "cell_type": "code",
   "execution_count": null,
   "id": "149c574f",
   "metadata": {},
   "outputs": [],
   "source": [
    "import os\n",
    "os.environ[\"AWS_ACCESS_KEY_ID\"] = \"minioadmin\"\n",
    "os.environ[\"AWS_SECRET_ACCESS_KEY\"] = \"minioadmin\"\n",
    "os.environ[\"MLFLOW_S3_ENDPOINT_URL\"] = f\"http://sparkjupyter-minio-1:9000\"\n",
    "\n",
    "spark.sparkContext._jsc.hadoopConfiguration().set(\"fs.s3a.endpoint\", \"http://sparkjupyter-minio-1:9000\")\n",
    "spark.sparkContext._jsc.hadoopConfiguration().set(\"fs.s3a.access.key\", \"minioadmin\")\n",
    "spark.sparkContext._jsc.hadoopConfiguration().set(\"fs.s3a.secret.key\", \"minioadmin\" )\n",
    "spark.sparkContext._jsc.hadoopConfiguration().set(\"fs.s3a.path.style.access\", \"true\")\n",
    "spark.sparkContext._jsc.hadoopConfiguration().set(\"fs.s3a.impl\", \"org.apache.hadoop.fs.s3a.S3AFileSystem\")\n",
    "spark.sparkContext._jsc.hadoopConfiguration().set(\"fs.s3a.connection.ssl.enabled\",\"false\")"
   ]
  },
  {
   "cell_type": "code",
   "execution_count": null,
   "id": "f0386199",
   "metadata": {},
   "outputs": [],
   "source": [
    "path_to_MinIO1 = \"s3a://external-acumos-vm-data/\""
   ]
  },
  {
   "cell_type": "code",
   "execution_count": null,
   "id": "053dacf4",
   "metadata": {},
   "outputs": [],
   "source": [
    "df_stream = spark.readStream.text(path_to_MinIO1)"
   ]
  },
  {
   "cell_type": "code",
   "execution_count": null,
   "id": "dea3bf61",
   "metadata": {},
   "outputs": [],
   "source": [
    "stringDF = df_stream.selectExpr(\"CAST(value AS STRING)\")"
   ]
  },
  {
   "cell_type": "code",
   "execution_count": null,
   "id": "eee7a382",
   "metadata": {},
   "outputs": [],
   "source": [
    "df= stringDF.withColumn('timestamp', regexp_extract('value', r'timestamp:\\s(.*),\\sused_memory', 1)) \\\n",
    "        .withColumn('cpu', regexp_extract('value', r'used_cpu:\\s(.*)\\%', 1)) \\\n",
    "        .withColumn('memory', regexp_extract('value', r'used_memory:\\s(.*)\\%\\s+,\\sused_storage', 1)) \\\n",
    "        .withColumn('storage', regexp_extract('value', r'used_storage:\\s(.*)\\%\\s+,\\sused_cpu', 1))"
   ]
  },
  {
   "cell_type": "code",
   "execution_count": null,
   "id": "20afcca4",
   "metadata": {},
   "outputs": [],
   "source": [
    "df.writeStream \\\n",
    "    .format(\"csv\") \\\n",
    "    .outputMode(\"append\") \\\n",
    "    .option(\"path\", \"s3a://external-acumos-vm-data-transformed/\") \\\n",
    "    .option(\"checkpointLocation\", \"s3a://external-acumos-vm-data-checkpoint/\") \\\n",
    "    .start() \\\n",
    "    .awaitTermination()"
   ]
  },
  {
   "cell_type": "code",
   "execution_count": null,
   "id": "8344bcc0",
   "metadata": {},
   "outputs": [],
   "source": []
  }
 ],
 "metadata": {
  "kernelspec": {
   "display_name": "Python 3 (ipykernel)",
   "language": "python",
   "name": "python3"
  },
  "language_info": {
   "codemirror_mode": {
    "name": "ipython",
    "version": 3
   },
   "file_extension": ".py",
   "mimetype": "text/x-python",
   "name": "python",
   "nbconvert_exporter": "python",
   "pygments_lexer": "ipython3",
   "version": "3.9.2"
  }
 },
 "nbformat": 4,
 "nbformat_minor": 5
}
