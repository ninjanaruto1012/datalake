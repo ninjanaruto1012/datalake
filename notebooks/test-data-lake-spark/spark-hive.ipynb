{
 "cells": [
  {
   "cell_type": "code",
   "execution_count": 1,
   "id": "95c2fbbc",
   "metadata": {},
   "outputs": [
    {
     "name": "stderr",
     "output_type": "stream",
     "text": [
      "/usr/local/lib/python3.9/dist-packages/pyspark/bin/load-spark-env.sh: line 68: ps: command not found\n",
      "Warning: Ignoring non-Spark config property: hive.metastore.uris\n",
      "Warning: Ignoring non-Spark config property: executor.memory\n"
     ]
    },
    {
     "name": "stdout",
     "output_type": "stream",
     "text": [
      "23/10/09 15:41:42 WARN NativeCodeLoader: Unable to load native-hadoop library for your platform... using builtin-java classes where applicable\n"
     ]
    },
    {
     "name": "stderr",
     "output_type": "stream",
     "text": [
      "Setting default log level to \"WARN\".\n",
      "To adjust logging level use sc.setLogLevel(newLevel). For SparkR, use setLogLevel(newLevel).\n"
     ]
    }
   ],
   "source": [
    "from pyspark.sql import SparkSession\n",
    "import pyspark.sql.functions as F\n",
    "from os.path import abspath\n",
    "\n",
    "URL_SPARK = \"spark://spark-master:7077\"\n",
    "warehouse_location = abspath('spark-warehouse')\n",
    "spark = (\n",
    "    SparkSession.builder\n",
    "    .appName(\"spark-hive\")\n",
    "    .config(\"executor.memory\", \"8g\")\n",
    "    .config(\"spark.sql.warehouse.dir\", warehouse_location)\n",
    "    .config(\"hive.metastore.uris\", \"thrift://localhost:9083\")\n",
    "    .config(\"spark.jars\", \"jars/hadoop-aws-3.3.2.jar,jars/aws-java-sdk-bundle-1.12.172.jar,jars/hadoop-common-3.3.2.jar,jars/spark-avro_2.12-3.3.2.jar,jars/commons-pool2-2.11.1.jar\")\n",
    "    .config(\"spark.hadoop.fs.s3a.aws.credentials.provider\", \"org.apache.hadoop.fs.s3a.SimpleAWSCredentialsProvider\")\n",
    "    .master(URL_SPARK)\n",
    "    .getOrCreate()\n",
    ")"
   ]
  },
  {
   "cell_type": "code",
   "execution_count": 2,
   "id": "70584099",
   "metadata": {},
   "outputs": [],
   "source": [
    "from pyspark.sql.functions import *\n",
    "from pyspark.sql.types import *\n",
    "from pyspark.sql.functions import unix_timestamp, from_unixtime"
   ]
  },
  {
   "cell_type": "code",
   "execution_count": 3,
   "id": "193bc29d",
   "metadata": {},
   "outputs": [],
   "source": [
    "import os\n",
    "os.environ[\"AWS_ACCESS_KEY_ID\"] = \"minioadmin\"\n",
    "os.environ[\"AWS_SECRET_ACCESS_KEY\"] = \"minioadmin\"\n",
    "os.environ[\"MLFLOW_S3_ENDPOINT_URL\"] = f\"http://sparkjupyter-minio-1:9000\"\n",
    "\n",
    "spark.sparkContext._jsc.hadoopConfiguration().set(\"fs.s3a.endpoint\", \"http://sparkjupyter-minio-1:9000\")\n",
    "spark.sparkContext._jsc.hadoopConfiguration().set(\"fs.s3a.access.key\", \"minioadmin\")\n",
    "spark.sparkContext._jsc.hadoopConfiguration().set(\"fs.s3a.secret.key\", \"minioadmin\" )\n",
    "spark.sparkContext._jsc.hadoopConfiguration().set(\"fs.s3a.path.style.access\", \"true\")\n",
    "spark.sparkContext._jsc.hadoopConfiguration().set(\"fs.s3a.impl\", \"org.apache.hadoop.fs.s3a.S3AFileSystem\")\n",
    "spark.sparkContext._jsc.hadoopConfiguration().set(\"fs.s3a.connection.ssl.enabled\",\"false\")"
   ]
  },
  {
   "cell_type": "code",
   "execution_count": 4,
   "id": "7df198fe",
   "metadata": {},
   "outputs": [
    {
     "data": {
      "text/plain": [
       "DataFrame[]"
      ]
     },
     "execution_count": 4,
     "metadata": {},
     "output_type": "execute_result"
    }
   ],
   "source": [
    "spark.sql(f\"CREATE DATABASE IF NOT EXISTS my_db_thrift_local\")"
   ]
  },
  {
   "cell_type": "code",
   "execution_count": 5,
   "id": "7a7ce710",
   "metadata": {},
   "outputs": [
    {
     "name": "stdout",
     "output_type": "stream",
     "text": [
      "23/10/09 15:41:51 WARN MetricsConfig: Cannot locate configuration: tried hadoop-metrics2-s3a-file-system.properties,hadoop-metrics2.properties\n"
     ]
    },
    {
     "data": {
      "text/plain": [
       "DataFrame[]"
      ]
     },
     "execution_count": 5,
     "metadata": {},
     "output_type": "execute_result"
    }
   ],
   "source": [
    "spark.sql(f\"CREATE DATABASE IF NOT EXISTS my_db_thrift LOCATION 's3a://test-hive/my_db_thrift.db'\")"
   ]
  },
  {
   "cell_type": "code",
   "execution_count": 6,
   "id": "80aabefb",
   "metadata": {},
   "outputs": [],
   "source": [
    "# spark.sql(f\"CREATE EXTERNAL TABLE IF NOT EXISTS mydb6.src (key INT, value STRING) LOCATION 's3a://test-hive/db6.db/table1'\")"
   ]
  },
  {
   "cell_type": "code",
   "execution_count": 7,
   "id": "81db1379",
   "metadata": {},
   "outputs": [
    {
     "name": "stdout",
     "output_type": "stream",
     "text": [
      "+------------------+\n",
      "|         namespace|\n",
      "+------------------+\n",
      "|           default|\n",
      "|      my_db_thrift|\n",
      "|my_db_thrift_local|\n",
      "+------------------+\n",
      "\n"
     ]
    }
   ],
   "source": [
    "spark.sql(\"SHOW DATABASES\").show()"
   ]
  },
  {
   "cell_type": "code",
   "execution_count": 8,
   "id": "35cea92b",
   "metadata": {},
   "outputs": [],
   "source": [
    "# spark.sql(\"INSERT INTO TABLE mydb6.src VALUES (1, 'abc')\")"
   ]
  },
  {
   "cell_type": "code",
   "execution_count": 9,
   "id": "4c6173f9",
   "metadata": {},
   "outputs": [],
   "source": [
    "# spark.sql(\"SELECT * FROM mydb6.src\").show()"
   ]
  },
  {
   "cell_type": "code",
   "execution_count": 10,
   "id": "fe5be11c",
   "metadata": {},
   "outputs": [],
   "source": [
    "# spark.sql(\"INSERT INTO TABLE mydb6.src VALUES (2, 'cdf')\")"
   ]
  },
  {
   "cell_type": "code",
   "execution_count": 11,
   "id": "4fff6bb6",
   "metadata": {},
   "outputs": [],
   "source": [
    "# spark.sql(f\"CREATE EXTERNAL TABLE IF NOT EXISTS mydb6.src2 (key INT, value STRING) LOCATION 's3a://test-hive/db6.db/src2'\")"
   ]
  }
 ],
 "metadata": {
  "kernelspec": {
   "display_name": "Python 3 (ipykernel)",
   "language": "python",
   "name": "python3"
  },
  "language_info": {
   "codemirror_mode": {
    "name": "ipython",
    "version": 3
   },
   "file_extension": ".py",
   "mimetype": "text/x-python",
   "name": "python",
   "nbconvert_exporter": "python",
   "pygments_lexer": "ipython3",
   "version": "3.9.2"
  }
 },
 "nbformat": 4,
 "nbformat_minor": 5
}
