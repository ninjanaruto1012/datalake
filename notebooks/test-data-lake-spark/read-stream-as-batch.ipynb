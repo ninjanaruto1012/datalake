{
 "cells": [
  {
   "cell_type": "code",
   "execution_count": 1,
   "id": "17b3c17b",
   "metadata": {},
   "outputs": [
    {
     "name": "stderr",
     "output_type": "stream",
     "text": [
      "/usr/local/lib/python3.9/dist-packages/pyspark/bin/load-spark-env.sh: line 68: ps: command not found\n"
     ]
    },
    {
     "name": "stdout",
     "output_type": "stream",
     "text": [
      "23/10/23 01:53:44 WARN NativeCodeLoader: Unable to load native-hadoop library for your platform... using builtin-java classes where applicable\n"
     ]
    },
    {
     "name": "stderr",
     "output_type": "stream",
     "text": [
      "Setting default log level to \"WARN\".\n",
      "To adjust logging level use sc.setLogLevel(newLevel). For SparkR, use setLogLevel(newLevel).\n"
     ]
    },
    {
     "name": "stdout",
     "output_type": "stream",
     "text": [
      "23/10/23 01:53:46 WARN Utils: Service 'SparkUI' could not bind on port 4040. Attempting port 4041.\n"
     ]
    }
   ],
   "source": [
    "from pyspark.sql import SparkSession\n",
    "import pyspark.sql.functions as F\n",
    "from os.path import abspath\n",
    "\n",
    "# SparkSession\n",
    "URL_SPARK = \"spark://spark-master:7077\"\n",
    "warehouse_location = abspath('spark-warehouse')\n",
    "\n",
    "spark = (\n",
    "    SparkSession.builder\n",
    "    .appName(\"read-stream-as-batch\")\n",
    "    .config(\"spark.executor.memory\", \"8g\")\n",
    "    .config(\"spark.executor.cores\", \"2\")\n",
    "    .config(\"spark.cores.max\", \"4\")\n",
    "    .config(\"spark.sql.warehouse.dir\", warehouse_location)\n",
    "    .config(\"spark.jars\", \"jars/hadoop-aws-3.3.2.jar,jars/aws-java-sdk-bundle-1.12.172.jar,jars/hadoop-common-3.3.2.jar,jars/spark-avro_2.12-3.3.2.jar,jars/commons-pool2-2.11.1.jar\")\n",
    "    .config(\"spark.hadoop.fs.s3a.aws.credentials.provider\", \"org.apache.hadoop.fs.s3a.SimpleAWSCredentialsProvider\")\n",
    "    .master(URL_SPARK)\n",
    "    .getOrCreate()\n",
    ")\n",
    "\n",
    "spark.conf.set(\"spark.sql.repl.eagerEval.enabled\", True)"
   ]
  },
  {
   "cell_type": "code",
   "execution_count": 2,
   "id": "d0326124",
   "metadata": {},
   "outputs": [],
   "source": [
    "from pyspark.sql.functions import *\n",
    "from pyspark.sql.types import *\n",
    "from pyspark.sql.functions import unix_timestamp, from_unixtime"
   ]
  },
  {
   "cell_type": "code",
   "execution_count": 3,
   "id": "81ce4ac0",
   "metadata": {},
   "outputs": [],
   "source": [
    "import os\n",
    "os.environ[\"AWS_ACCESS_KEY_ID\"] = \"minio_access_key\"\n",
    "os.environ[\"AWS_SECRET_ACCESS_KEY\"] = \"minio_secret_key\"\n",
    "os.environ[\"MLFLOW_S3_ENDPOINT_URL\"] = f\"http://minio:9000\"\n",
    "\n",
    "spark.sparkContext._jsc.hadoopConfiguration().set(\"fs.s3a.endpoint\", \"http://minio:9000\")\n",
    "spark.sparkContext._jsc.hadoopConfiguration().set(\"fs.s3a.access.key\", \"minio_access_key\")\n",
    "spark.sparkContext._jsc.hadoopConfiguration().set(\"fs.s3a.secret.key\", \"minio_secret_key\" )\n",
    "spark.sparkContext._jsc.hadoopConfiguration().set(\"fs.s3a.path.style.access\", \"true\")\n",
    "spark.sparkContext._jsc.hadoopConfiguration().set(\"fs.s3a.impl\", \"org.apache.hadoop.fs.s3a.S3AFileSystem\")\n",
    "spark.sparkContext._jsc.hadoopConfiguration().set(\"fs.s3a.connection.ssl.enabled\",\"false\")"
   ]
  },
  {
   "cell_type": "code",
   "execution_count": 4,
   "id": "62ef423e",
   "metadata": {},
   "outputs": [],
   "source": [
    "path_to_stored_minio = \"s3a://stream-interface-elab9070/data\""
   ]
  },
  {
   "cell_type": "code",
   "execution_count": 5,
   "id": "ce90c4ed",
   "metadata": {},
   "outputs": [
    {
     "name": "stdout",
     "output_type": "stream",
     "text": [
      "23/10/23 01:53:49 WARN MetricsConfig: Cannot locate configuration: tried hadoop-metrics2-s3a-file-system.properties,hadoop-metrics2.properties\n"
     ]
    },
    {
     "name": "stderr",
     "output_type": "stream",
     "text": [
      "                                                                                \r"
     ]
    }
   ],
   "source": [
    "df_stream_to_batch = spark.read.parquet(path_to_stored_minio)"
   ]
  },
  {
   "cell_type": "code",
   "execution_count": 6,
   "id": "602a9022",
   "metadata": {},
   "outputs": [],
   "source": [
    "# display(df_stream_to_batch)"
   ]
  },
  {
   "cell_type": "code",
   "execution_count": 7,
   "id": "f2e8bb01",
   "metadata": {},
   "outputs": [],
   "source": [
    "df_stream_to_batch.createTempView(\"myTable\")"
   ]
  },
  {
   "cell_type": "code",
   "execution_count": 8,
   "id": "320362dc",
   "metadata": {},
   "outputs": [
    {
     "name": "stdout",
     "output_type": "stream",
     "text": [
      "root\n",
      " |-- timestamp: string (nullable = true)\n",
      " |-- source: string (nullable = true)\n",
      " |-- interface_name: string (nullable = true)\n",
      " |-- packets_received: string (nullable = true)\n",
      " |-- packets_sent: string (nullable = true)\n",
      " |-- bytes_received: string (nullable = true)\n",
      " |-- bytes_sent: string (nullable = true)\n",
      " |-- multicast_packets_received: string (nullable = true)\n",
      " |-- multicast_packets_sent: string (nullable = true)\n",
      " |-- broadcast_packets_received: string (nullable = true)\n",
      " |-- broadcast_packets_sent: string (nullable = true)\n",
      " |-- output_drops: string (nullable = true)\n",
      " |-- output_queue_drops: string (nullable = true)\n",
      " |-- input_drops: string (nullable = true)\n",
      " |-- input_queue_drops: string (nullable = true)\n",
      " |-- input_errors: string (nullable = true)\n",
      "\n"
     ]
    }
   ],
   "source": [
    "df_stream_to_batch.printSchema()"
   ]
  },
  {
   "cell_type": "code",
   "execution_count": 14,
   "id": "b7c4632a",
   "metadata": {},
   "outputs": [
    {
     "name": "stdout",
     "output_type": "stream",
     "text": [
      "+--------------------+--------+--------------------+----------------+------------+--------------+-------------+--------------------------+----------------------+--------------------------+----------------------+------------+------------------+-----------+-----------------+------------+\n",
      "|           timestamp|  source|      interface_name|packets_received|packets_sent|bytes_received|   bytes_sent|multicast_packets_received|multicast_packets_sent|broadcast_packets_received|broadcast_packets_sent|output_drops|output_queue_drops|input_drops|input_queue_drops|input_errors|\n",
      "+--------------------+--------+--------------------+----------------+------------+--------------+-------------+--------------------------+----------------------+--------------------------+----------------------+------------+------------------+-----------+-----------------+------------+\n",
      "|2023-10-05 20:10:...|elab9070|     Bundle-Ether101|               0|           0|             0|            0|                         0|                     0|                         0|                     0|           0|                 0|          0|                0|           0|\n",
      "|2023-10-05 20:10:...|elab9070|  Bundle-Ether101.30|               0|           0|             0|            0|                         0|                     0|                         0|                     0|           0|                 0|          0|                0|           0|\n",
      "|2023-10-05 20:10:...|elab9070|    Bundle-Ether1066|               0|          39|             0|         4290|                         0|                    39|                         0|                     0|           0|                 0|          0|                0|           0|\n",
      "|2023-10-05 20:10:...|elab9070|    Bundle-Ether3920|               0|          39|             0|         4290|                         0|                    39|                         0|                     0|           0|                 0|          0|                0|           0|\n",
      "|2023-10-05 20:10:...|elab9070|    Bundle-Ether3940|               0|          39|             0|         4290|                         0|                    39|                         0|                     0|           0|                 0|          0|                0|           0|\n",
      "|2023-10-05 20:10:...|elab9070|     Bundle-Ether400|       908552036|   442198010|   91085637314|  47289833007|                 405503546|             247547128|                         0|                     0|           0|                 0|          0|                0|           0|\n",
      "|2023-10-05 20:10:...|elab9070|     Bundle-Ether401|               0|           0|             0|            0|                         0|                     0|                         0|                     0|           0|                 0|          0|                0|           0|\n",
      "|2023-10-05 20:10:...|elab9070|     Bundle-Ether500|     41363423015| 37992095981| 4146753103523|3871102428742|               30774200235|           30671938237|                         0|                     0|           0|                 0|          0|                0|           0|\n",
      "|2023-10-05 20:10:...|elab9070|    Bundle-Ether5000|               0|           0|             0|            0|                         0|                     0|                         0|                     0|           0|                 0|          0|                0|           0|\n",
      "|2023-10-05 20:10:...|elab9070|     Bundle-Ether501|      7669803712|  7720068109|  523729309302| 546656884145|                1258402888|            1308648874|                         0|                     0|           0|                 0|          0|                0|           0|\n",
      "|2023-10-05 20:10:...|elab9070|      Bundle-Ether51|               0|           0|             0|            0|                         0|                     0|                         0|                     0|           0|                 0|          0|                0|           0|\n",
      "|2023-10-05 20:10:...|elab9070|      Bundle-Ether52|               0|           0|             0|            0|                         0|                     0|                         0|                     0|           0|                 0|          0|                0|           0|\n",
      "|2023-10-05 20:10:...|elab9070|      Bundle-Ether61|               0|          78|             0|         8580|                         0|                    78|                         0|                     0|           0|                 0|          0|                0|           0|\n",
      "|2023-10-05 20:10:...|elab9070|      Bundle-Ether74|               0|          39|             0|         4290|                         0|                    39|                         0|                     0|           0|                 0|          0|                0|           0|\n",
      "|2023-10-05 20:10:...|elab9070|      Bundle-Ether98|               0|           0|             0|            0|                         0|                     0|                         0|                     0|           0|                 0|          0|                0|           0|\n",
      "|2023-10-05 20:10:...|elab9070|GigabitEthernet0/...|               0|           0|             0|            0|                         0|                     0|                         0|                     0|           0|                 0|          0|                0|           0|\n",
      "|2023-10-05 20:10:...|elab9070|GigabitEthernet0/...|               0|           0|             0|            0|                         0|                     0|                         0|                     0|           0|                 0|          0|                0|           0|\n",
      "|2023-10-05 20:10:...|elab9070|GigabitEthernet0/...|               0|           0|             0|            0|                         0|                     0|                         0|                     0|           0|                 0|          0|                0|           0|\n",
      "|2023-10-05 20:10:...|elab9070|GigabitEthernet0/...|               0|           0|             0|            0|                         0|                     0|                         0|                     0|           0|                 0|          0|                0|           0|\n",
      "|2023-10-05 20:10:...|elab9070|GigabitEthernet0/...|               0|           0|             0|            0|                         0|                     0|                         0|                     0|           0|                 0|          0|                0|           0|\n",
      "+--------------------+--------+--------------------+----------------+------------+--------------+-------------+--------------------------+----------------------+--------------------------+----------------------+------------+------------------+-----------+-----------------+------------+\n",
      "only showing top 20 rows\n",
      "\n"
     ]
    }
   ],
   "source": [
    "df_stream_to_batch.show()"
   ]
  },
  {
   "cell_type": "code",
   "execution_count": 9,
   "id": "4018681a",
   "metadata": {},
   "outputs": [],
   "source": [
    "# df_stream_to_batch.count()"
   ]
  },
  {
   "cell_type": "code",
   "execution_count": 10,
   "id": "0cbfba28",
   "metadata": {},
   "outputs": [],
   "source": [
    "sdf = spark.sql('SELECT MAX(cast(timestamp as timestamp)) FROM myTable')"
   ]
  },
  {
   "cell_type": "code",
   "execution_count": 11,
   "id": "5015488a",
   "metadata": {},
   "outputs": [
    {
     "name": "stderr",
     "output_type": "stream",
     "text": [
      "                                                                                \r"
     ]
    },
    {
     "data": {
      "text/html": [
       "<table border='1'>\n",
       "<tr><th>max(CAST(timestamp AS TIMESTAMP))</th></tr>\n",
       "<tr><td>2023-10-23 01:52:...</td></tr>\n",
       "</table>\n"
      ],
      "text/plain": [
       "+---------------------------------+\n",
       "|max(CAST(timestamp AS TIMESTAMP))|\n",
       "+---------------------------------+\n",
       "|             2023-10-23 01:52:...|\n",
       "+---------------------------------+"
      ]
     },
     "execution_count": 11,
     "metadata": {},
     "output_type": "execute_result"
    }
   ],
   "source": [
    "sdf"
   ]
  },
  {
   "cell_type": "code",
   "execution_count": 12,
   "id": "c6f68d41",
   "metadata": {},
   "outputs": [],
   "source": [
    "# sdf.show(2,truncate=False, vertical=True)"
   ]
  },
  {
   "cell_type": "code",
   "execution_count": 13,
   "id": "063ec779",
   "metadata": {},
   "outputs": [
    {
     "name": "stderr",
     "output_type": "stream",
     "text": [
      "                                                                                \r"
     ]
    },
    {
     "data": {
      "text/plain": [
       "[Row(timestamp='2023-10-21 02:05:22.1', source='elab9070', interface_name='Bundle-Ether101', packets_received='0', packets_sent='0', bytes_received='0', bytes_sent='0', multicast_packets_received='0', multicast_packets_sent='0', broadcast_packets_received='0', broadcast_packets_sent='0', output_drops='0', output_queue_drops='0', input_drops='0', input_queue_drops='0', input_errors='0'),\n",
       " Row(timestamp='2023-10-11 09:58:01', source='elab9070', interface_name='Bundle-Ether101', packets_received='0', packets_sent='0', bytes_received='0', bytes_sent='0', multicast_packets_received='0', multicast_packets_sent='0', broadcast_packets_received='0', broadcast_packets_sent='0', output_drops='0', output_queue_drops='0', input_drops='0', input_queue_drops='0', input_errors='0'),\n",
       " Row(timestamp='2023-10-11 13:22:18', source='elab9070', interface_name='Bundle-Ether101', packets_received='0', packets_sent='0', bytes_received='0', bytes_sent='0', multicast_packets_received='0', multicast_packets_sent='0', broadcast_packets_received='0', broadcast_packets_sent='0', output_drops='0', output_queue_drops='0', input_drops='0', input_queue_drops='0', input_errors='0'),\n",
       " Row(timestamp='2023-10-15 16:48:58', source='elab9070', interface_name='Bundle-Ether101', packets_received='0', packets_sent='0', bytes_received='0', bytes_sent='0', multicast_packets_received='0', multicast_packets_sent='0', broadcast_packets_received='0', broadcast_packets_sent='0', output_drops='0', output_queue_drops='0', input_drops='0', input_queue_drops='0', input_errors='0'),\n",
       " Row(timestamp='2023-10-19 01:17:02', source='elab9070', interface_name='Bundle-Ether101', packets_received='0', packets_sent='0', bytes_received='0', bytes_sent='0', multicast_packets_received='0', multicast_packets_sent='0', broadcast_packets_received='0', broadcast_packets_sent='0', output_drops='0', output_queue_drops='0', input_drops='0', input_queue_drops='0', input_errors='0')]"
      ]
     },
     "execution_count": 13,
     "metadata": {},
     "output_type": "execute_result"
    }
   ],
   "source": [
    "df_stream_to_batch.tail(5)"
   ]
  },
  {
   "cell_type": "code",
   "execution_count": null,
   "id": "a8cffbc2",
   "metadata": {},
   "outputs": [],
   "source": []
  }
 ],
 "metadata": {
  "kernelspec": {
   "display_name": "Python 3 (ipykernel)",
   "language": "python",
   "name": "python3"
  },
  "language_info": {
   "codemirror_mode": {
    "name": "ipython",
    "version": 3
   },
   "file_extension": ".py",
   "mimetype": "text/x-python",
   "name": "python",
   "nbconvert_exporter": "python",
   "pygments_lexer": "ipython3",
   "version": "3.9.2"
  }
 },
 "nbformat": 4,
 "nbformat_minor": 5
}
